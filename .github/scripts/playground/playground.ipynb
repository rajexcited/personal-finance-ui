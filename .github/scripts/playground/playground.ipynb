{
 "cells": [
  {
   "cell_type": "code",
   "execution_count": null,
   "metadata": {},
   "outputs": [],
   "source": [
    "pip install pipreqs"
   ]
  },
  {
   "cell_type": "code",
   "execution_count": 152,
   "metadata": {},
   "outputs": [
    {
     "name": "stdout",
     "output_type": "stream",
     "text": [
      "Note: you may need to restart the kernel to use updated packages.\n"
     ]
    }
   ],
   "source": [
    "pip freeze > requirements.txt"
   ]
  },
  {
   "cell_type": "code",
   "execution_count": 38,
   "metadata": {},
   "outputs": [],
   "source": [
    "# fpath=\"../../test-cases/test_scenario_template.md\"\n",
    "fpath = \"tc1.md\"\n",
    "with open(fpath, \"r\") as f:\n",
    "    mtxt = f.read()\n"
   ]
  },
  {
   "cell_type": "code",
   "execution_count": null,
   "metadata": {},
   "outputs": [],
   "source": [
    "import markdown\n",
    "\n",
    "ast = markdown.markdown(mtxt)\n",
    "\n",
    "print(ast)"
   ]
  },
  {
   "cell_type": "code",
   "execution_count": 41,
   "metadata": {},
   "outputs": [
    {
     "name": "stdout",
     "output_type": "stream",
     "text": [
      "Headings: [{'level': 1, 'text': 'Login success'}, {'level': 2, 'text': 'Title:'}, {'level': 2, 'text': 'Description:'}, {'level': 2, 'text': 'Preconditions:'}, {'level': 2, 'text': 'Steps to Execute:'}, {'level': 2, 'text': 'Expected Outcome:'}, {'level': 2, 'text': 'Impact Area:'}, {'level': 3, 'text': 'frontend'}, {'level': 3, 'text': 'backend api'}, {'level': 2, 'text': 'Type of Test:'}, {'level': 2, 'text': 'Tags:'}, {'level': 3, 'text': 'features'}, {'level': 3, 'text': 'execution'}, {'level': 3, 'text': 'impact'}, {'level': 3, 'text': 'type'}, {'level': 2, 'text': 'Affected Versions:'}, {'level': 2, 'text': 'Attachments:'}, {'level': 2, 'text': 'Average Performance Time:'}, {'level': 3, 'text': 'Test:'}, {'level': 3, 'text': 'Browser:'}, {'level': 4, 'text': 'network calls:'}, {'level': 3, 'text': 'Lambda:'}, {'level': 4, 'text': 'user-login'}, {'level': 2, 'text': 'Notes/Comments:'}]\n",
      "Lists: ['The loading indicator is displayed for few seconds (~5).', 'user is navigated to `secured homepage`.', 'secured links like, expenses, payment accounts, settings, logout, etc. are showing and navigational.', 'login page', 'homepage', 'logout page', 'login api', 'stats api', 'userdetails api', 'logout api', 'Integration', 'Demo site testable', 'login', 'logout', 'manual', 'low', 'positive', 'index.html=450 ms', 'api/user/login/post=1.8 sec', 'api/user/details/get=2.3 sec', 'api/stats/purchase/get=1.44 sec', 'api/stats/refund/get=1.24 sec', 'api/stats/income/get=768 ms', 'memory provisioned=256 MB', 'bill duration=1122 ms', 'init duration=687 ms']\n"
     ]
    }
   ],
   "source": [
    "import re\n",
    "\n",
    "def parse_markdown(file_path):\n",
    "    with open(file_path, 'r', encoding='utf-8') as file:\n",
    "        content = file.readlines()\n",
    "\n",
    "    summary = {\"Headings\": [], \"Lists\": []}\n",
    "\n",
    "    for line in content:\n",
    "        # Extract headings\n",
    "        heading_match = re.match(r\"^(#+) (.+)\", line)\n",
    "        if heading_match:\n",
    "            level = len(heading_match.group(1))  # Number of `#`\n",
    "            text = heading_match.group(2).strip()\n",
    "            summary[\"Headings\"].append({\"level\": level, \"text\": text})\n",
    "\n",
    "        # Extract lists\n",
    "        list_match = re.match(r\"^[-*+] (.+)\", line)\n",
    "        if list_match:\n",
    "            summary[\"Lists\"].append(list_match.group(1).strip())\n",
    "\n",
    "    return summary\n",
    "\n",
    "# Example usage\n",
    "file_path = \"tc1.md\"  # Replace with your Markdown file path\n",
    "summary = parse_markdown(file_path)\n",
    "print(\"Headings:\", summary[\"Headings\"])\n",
    "print(\"Lists:\", summary[\"Lists\"])\n"
   ]
  },
  {
   "cell_type": "code",
   "execution_count": 82,
   "metadata": {},
   "outputs": [],
   "source": [
    "import re\n",
    "\n",
    "with open(\"tc1.md\", \"r\", encoding=\"utf-8\") as file:\n",
    "    tc1_markdown_lines = file.readlines()\n"
   ]
  },
  {
   "cell_type": "code",
   "execution_count": 79,
   "metadata": {},
   "outputs": [
    {
     "name": "stdout",
     "output_type": "stream",
     "text": [
      "({'id': 'login-logout-tc1'}, 3)\n"
     ]
    }
   ],
   "source": [
    "def parse_metadata(lines):\n",
    "    metadata = None\n",
    "\n",
    "    for line in lines:\n",
    "        if line.strip() == \"---\":\n",
    "            if metadata == None:\n",
    "                metadata = dict()\n",
    "            else:\n",
    "                break\n",
    "        else:\n",
    "            metadata_match = re.match(r\"(.+):(.+)\", line)\n",
    "            if metadata_match:\n",
    "                key = metadata_match.group(1).strip()\n",
    "                text = metadata_match.group(2).strip()\n",
    "                if key in metadata:\n",
    "                    raise ValueError(\"duplicate metadata key\")\n",
    "                metadata[key] = text\n",
    "    return metadata\n",
    "\n",
    "print(parse_metadata(tc1_markdown_lines))\n",
    " "
   ]
  },
  {
   "cell_type": "code",
   "execution_count": null,
   "metadata": {},
   "outputs": [],
   "source": [
    "import json\n",
    "from typing import List\n",
    "from markdown_to_json import dictify\n",
    "\n",
    "\n",
    "def get_formatted_key(k:str):\n",
    "    kr = k.replace(\"`\", \"\").strip()\n",
    "    if kr.endswith(\":\"):\n",
    "        return kr[:-1]\n",
    "    return kr\n",
    "\n",
    "def flatten_list_dict(list_values: List, depth_level:str|None=\"max\"):\n",
    "    if isinstance(list_values, List):\n",
    "        list_dict = dict()\n",
    "        for lv in list_values:\n",
    "            if not isinstance(lv, dict):\n",
    "                print(\"list value {lv} is not dictionary. cannot flatten list of dict to dict of key-values\")\n",
    "                list_dict = None\n",
    "                break\n",
    "            if len(lv.keys()) != 1:\n",
    "                print(\"dictionary value in list {lv} doesnot match required only 1 key. cannot flatten list of dict to dict of key-values\")\n",
    "                list_dict = None\n",
    "                break\n",
    "            k,v = lv.popitem()\n",
    "            fv = None\n",
    "            if depth_level == \"max\":\n",
    "                fv = flatten_list_dict(v, depth_level)\n",
    "\n",
    "            list_dict[k] = fv if fv != None else v\n",
    "        return list_dict\n",
    "    return list_values\n",
    "\n",
    "def convert_list_to_dict(key:str, list_values:List|str|dict):\n",
    "    list_dict = dict()\n",
    "\n",
    "    if isinstance(list_values, dict):\n",
    "        for k,v in list_values.items():\n",
    "            kk = get_formatted_key(k)\n",
    "            list_dict[kk] = convert_list_to_dict(kk, v)\n",
    "        return list_dict\n",
    "\n",
    "    if isinstance(list_values,str):\n",
    "        list_values = [list_values]\n",
    "\n",
    "    if not isinstance(list_values, List):\n",
    "        raise TypeError(f\"{key} are not in list format\")\n",
    "\n",
    "    for lv in list_values:\n",
    "        if not isinstance(lv, str):\n",
    "            raise TypeError(f\"value [{lv}] in list is not string\")\n",
    "\n",
    "        lv_array = lv.split(\"=\")\n",
    "        if len(lv_array) != 2:\n",
    "            raise AssertionError(f\"{key} key and value are in incorrect format. it should be tagkey=value1,value2\")\n",
    "\n",
    "        dict_k = get_formatted_key(lv_array[0])\n",
    "        if dict_k in list_dict:\n",
    "            raise AssertionError(f\"the key[{dict_k}] for {key} is duplicate\")\n",
    "        \n",
    "        list_dict[dict_k] = get_formatted_key(lv_array[1]).split(\",\")\n",
    "    return list_dict\n",
    "\n",
    "filename = \"tc1.md\"\n",
    "\n",
    "def convert_tc(lines: List[str]):\n",
    "    metadata,ln = parse_metadata(lines)\n",
    "    \n",
    "    if \"id\" not in metadata:\n",
    "        raise AssertionError(\"id is missing in metadata of \" + filename)\n",
    "    converted_tc_dict = dict()\n",
    "    converted_tc_dict[metadata[\"id\"]] = dict()\n",
    "    converted_tc_dict[metadata[\"id\"]][\"metadata\"] = metadata\n",
    "    \n",
    "    tc_dict = dictify(\"\\n\".join(lines))\n",
    "    if not isinstance(tc_dict, dict):\n",
    "        raise TypeError(\"test case details are not converted into dictionary\")\n",
    "\n",
    "    if len(tc_dict.keys()) != 1:\n",
    "        raise AssertionError(f\"test case file format is incorrect. only 1 level headings supported. but found [{ ','.join(tc_dict.keys() ) }]\")\n",
    "    \n",
    "    k,v = tc_dict.popitem()\n",
    "    print(f\"key={k} and value={v}\")\n",
    "    details_dict = converted_tc_dict[metadata[\"id\"]][\"details\"] = dict()\n",
    "    for k1,v1 in v.items():\n",
    "        # print(k1,v1)\n",
    "        details_k = get_formatted_key(k1)\n",
    "        details_v = v1\n",
    "        if details_k == \"Tags\":\n",
    "            details_v = convert_list_to_dict(details_k, v1)\n",
    "        elif details_k == \"Average Performance Time\":\n",
    "            if not isinstance(v1, dict):\n",
    "                raise TypeError(f\"{details_k} is not dictionary\")\n",
    "\n",
    "            details_v = convert_list_to_dict(details_k, v1)\n",
    "        \n",
    "        details_dict[details_k]= details_v\n",
    "\n",
    "    return converted_tc_dict\n",
    "\n",
    "print(tc1_markdown_lines)\n",
    "print(\"converted test case details =\", json.dumps(convert_tc(tc1_markdown_lines), indent=4))\n"
   ]
  },
  {
   "cell_type": "code",
   "execution_count": 34,
   "metadata": {},
   "outputs": [],
   "source": [
    "# fpath=\"../../test-cases/test_scenario_template.md\"\n",
    "fpath = \"converted-tc1.md\"\n",
    "with open(fpath, \"r\") as f:\n",
    "    cmtxt = f.read()\n"
   ]
  },
  {
   "cell_type": "code",
   "execution_count": null,
   "metadata": {},
   "outputs": [
    {
     "name": "stdout",
     "output_type": "stream",
     "text": [
      "OrderedDict([('Login success', OrderedDict([('Title:', 'User login successful after logout'), ('Description:', 'logged in user tries to logout successful. upon logging out, user tries to login again. when successful user can access all secured features e.g. add purchase, view settings, etc.'), ('Preconditions:', 'User is on login page.'), ('Steps to Execute:', ['user fills out details as following,', ['emailId: `sardar.vallabhbhai.patel@example.com`', 'password: `$Ardar123`'], 'user clicks on login button', 'login is successful, and logout link is displayed.', 'user clicks on logout link', 'user logs out successfully.', 'user attempts login with same credential immediately']), ('Expected Outcome:', ['The loading indicator is displayed for few seconds (~5).', 'user is navigated to `secured homepage`.', 'secured links like, expenses, payment accounts, settings, logout, etc. are showing and navigational.']), ('Impact Area:', OrderedDict([('frontend', ['login page', 'homepage', 'logout page']), ('backend api', ['login api', 'stats api', 'userdetails api', 'logout api'])])), ('Type of Test:', ['Integration', 'Demo site testable']), ('Tags:', OrderedDict([('features', ['login', 'logout']), ('execution', ['manual']), ('impact', ['low']), ('type', ['positive'])])), ('Affected Versions:', 'v0.1.0'), ('Attachments:', 'Screenshots'), ('Average Performance Time:', OrderedDict([('Test:', 'total=1 min'), ('Browser:', OrderedDict([('network calls:', ['index.html=450 ms', 'api/user/login/post=1.8 sec', 'api/user/details/get=2.3 sec', 'api/stats/purchase/get=1.44 sec', 'api/stats/refund/get=1.24 sec', 'api/stats/income/get=768 ms'])])), ('Lambda:', OrderedDict([('user-login', ['memory provisioned=256 MB', 'bill duration=1122 ms', 'init duration=687 ms'])]))])), ('Notes/Comments:', 'Any additional information or considerations.')]))])\n"
     ]
    }
   ],
   "source": [
    "from markdown_to_json import dictify\n",
    "\n",
    "dict_data = dictify(cmtxt)\n",
    "\n",
    "print(dict_data)\n",
    "\n"
   ]
  },
  {
   "cell_type": "code",
   "execution_count": 37,
   "metadata": {},
   "outputs": [
    {
     "name": "stdout",
     "output_type": "stream",
     "text": [
      "{\"login-logout-tc1\": {\"Title:\": [\"Login success\", \"User login successful after logout\"], \"Description:\": \"logged in user tries to logout successful. upon logging out, user tries to login again. when successful user can access all secured features e.g. add purchase, view settings, etc.\", \"Preconditions:\": \"User is on login page.\", \"Steps to Execute:\": [\"user fills out details as following,\", [\"emailId: `sardar.vallabhbhai.patel@example.com`\", \"password: `$Ardar123`\"], \"user clicks on login button\", \"login is successful, and logout link is displayed.\", \"user clicks on logout link\", \"user logs out successfully.\", \"user attempts login with same credential immediately\"], \"Expected Outcome:\": [\"The loading indicator is displayed for few seconds (~5).\", \"user is navigated to `secured homepage`.\", \"secured links like, expenses, payment accounts, settings, logout, etc. are showing and navigational.\"], \"Impact Area:\": {\"frontend\": [\"login page\", \"homepage\", \"logout page\"], \"backend api\": [\"login api\", \"stats api\", \"userdetails api\", \"logout api\"]}, \"Type of Test:\": [\"Integration\", \"Demo site testable\"], \"Tags:\": {\"features\": [\"login\", \"logout\"], \"execution\": [\"manual\"], \"impact\": [\"low\"], \"type\": [\"positive\"]}, \"Affected Versions:\": \"v0.1.0\", \"Attachments:\": \"Screenshots\", \"Average Performance Time:\": {\"Test:\": {\"total\": \"1 min\"}, \"Browser:\": {\"network calls:\": {\"index.html\": \"450 ms\", \"api/user/login/post\": \"1.8 sec\", \"api/user/details/get\": \"2.3 sec\", \"api/stats/purchase/get\": \"1.44 sec\", \"api/stats/refund/get\": \"1.24 sec\", \"api/stats/income/get\": \"768 ms\"}}, \"Lambda:\": {\"user-login\": {\"memory provisioned\": \"256 MB\", \"bill duration\": \"1122 ms\", \"init duration\": \"687 ms\"}}}, \"Notes/Comments:\": \"Any additional information or considerations.\"}}\n"
     ]
    }
   ],
   "source": [
    "from markdown_to_json import jsonify\n",
    "\n",
    "json_data = jsonify(cmtxt)\n",
    "\n",
    "print(json_data)\n",
    "\n",
    "f = open(\"converted-tc1.json\", \"w\")\n",
    "f.write(json_data)\n",
    "f.close()"
   ]
  },
  {
   "cell_type": "code",
   "execution_count": null,
   "metadata": {},
   "outputs": [],
   "source": [
    "from pathlib import Path\n",
    "\n",
    "p=Path(\"../../../test-cases/\")\n",
    "\n",
    "print(\"absolute=\",p.absolute())\n",
    "print(\"cwd=\",p.cwd())\n",
    "\n",
    "for f in p.rglob(\"*.md\"):\n",
    "    print(f.relative_to(p))"
   ]
  },
  {
   "cell_type": "code",
   "execution_count": 147,
   "metadata": {},
   "outputs": [
    {
     "name": "stdout",
     "output_type": "stream",
     "text": [
      "there is no error\n",
      "something has gone wrong. it is failed\n"
     ]
    },
    {
     "name": "stderr",
     "output_type": "stream",
     "text": [
      "Traceback (most recent call last):\n",
      "  File \"C:\\Users\\neel4\\AppData\\Local\\Temp\\ipykernel_33776\\4165521157.py\", line 7, in testtry\n",
      "    raise AssertionError(\"it is failed\")\n",
      "AssertionError: it is failed\n"
     ]
    }
   ],
   "source": [
    "import traceback\n",
    "\n",
    "\n",
    "def testtry(fail=False):\n",
    "    try:\n",
    "        if fail == True:\n",
    "            raise AssertionError(\"it is failed\")\n",
    "        print(\"there is no error\")\n",
    "    except Exception as e:\n",
    "        print(\"something has gone wrong.\", e)\n",
    "        traceback.print_exception(e)\n",
    "\n",
    "testtry()\n",
    "\n",
    "testtry(True)"
   ]
  },
  {
   "cell_type": "code",
   "execution_count": null,
   "metadata": {},
   "outputs": [],
   "source": []
  }
 ],
 "metadata": {
  "kernelspec": {
   "display_name": "Python 3",
   "language": "python",
   "name": "python3"
  },
  "language_info": {
   "codemirror_mode": {
    "name": "ipython",
    "version": 3
   },
   "file_extension": ".py",
   "mimetype": "text/x-python",
   "name": "python",
   "nbconvert_exporter": "python",
   "pygments_lexer": "ipython3",
   "version": "3.11.9"
  }
 },
 "nbformat": 4,
 "nbformat_minor": 2
}
